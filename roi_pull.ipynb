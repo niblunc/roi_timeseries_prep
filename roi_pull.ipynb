{
 "cells": [
  {
   "cell_type": "markdown",
   "source": [
    "# ROI pull\n",
    "\n",
    "## Step 1: Prepare Data  \n",
    "\n",
    "## Step 2: Transform in asymmetrical space with `flirt`    \n",
    "**`flirt`**:  used to apply a saved transformation to a volume (`--applyxfm`, `-init`, `-out`)\n",
    "-- note for this the reference volume must be specified, it sets the voxel and image dimensions of the resulting volume.\n",
    "\n",
    "## Step 3: Threshold fMRI activations  `fslmaths -thr` \n",
    "\n",
    "## Step 4: Calculate ROI regions for each individual with `fslmeants`\n",
    "`fslmeants: outputs the average of a timeseries.`  \n",
    "Used fslmeants to calculate volumes for that cluster on each individual, \n",
    "extracting ROI regions, by subject by condition. \n",
    "\n",
    "## Step 5: Combine each ROI clusters into a matrix, by subject per condition\n",
    "## Step 6: Build functional connectivity subject/condition matrices from the ROI subject/condition matrices\n",
    "## Step 7: Build functional connectivity subject matrices from averages of the conditions by subject"
   ],
   "metadata": {
    "collapsed": false,
    "pycharm": {
     "name": "#%% md\n"
    }
   }
  },
  {
   "cell_type": "code",
   "execution_count": null,
   "metadata": {
    "collapsed": true
   },
   "outputs": [],
   "source": [
    "#########################################\n",
    "## Step 1:\n",
    "\n",
    "# set data variables\n",
    "\n",
    "print(\"[INFO] PROGRAM STARTING....\")\n",
    "# path that holds the subjects\n",
    "data_path='/projects/niblab/experiments/project_milkshake/derivatives'\n",
    "\n",
    "# get subject task functional images (niftis)\n",
    "# -- note: this code grabs functional images,  usually resting or functional-tasks.\n",
    "# This code may be unique, may be more efficient way to grab user code.\n",
    "func_folders=glob.glob(os.path.join(data_path,'sub-*/*'))\n",
    "# sort images\n",
    "func_folders.sort()\n",
    "#print(func_imgs)\n",
    "\n",
    "\n",
    "# initialize fmri timeseries class object --inherites functional image list\n",
    "obj1 = FMRITimeseries(func_folders)\n",
    "# --test class\n",
    "#print(obj1.data_dict)\n",
    "\n",
    "# setup data dictionary with unique subject and task keys\n",
    "data_dict=obj1.setup_dictionary(filtered_func=True)\n",
    "#print(data_dict)\n",
    "\n",
    "\n",
    "# set a list of subject ids from the dictionary 1st level keys\n",
    "subject_ids=list(data_dict.keys())\n",
    "subject_ids.sort()\n",
    "subject_ct=len(subject_ids) # get count of subject dataset\n",
    "print(\"[INFO] Dictionary made, {} keys \\n[INFO] Keys: {}\".format(len(data_dict.keys()), subject_ids))\n",
    "\n",
    "\n",
    "# build chunklist\n",
    "chunk_list=obj1.build_chunklist(subject_ids=subject_ids)\n",
    "#print('[INFO] CPU ct: %s'%mp.cpu_count())\n",
    "\n",
    "\n",
    "#########################################\n",
    "## Step 2: Transform Functionals to match the atlas masks with flirt and fslmaths.\n",
    "run_flirt=False\n",
    "if run_flirt==True:\n",
    "    print('[INFO] transforming functionals to match the mask with flirt....')\n",
    "\n",
    "    flirt_start_time = time.time()\n",
    "    for chunk in chunk_list:\n",
    "        with mp.Pool(12) as p:\n",
    "            #print(chunk)\n",
    "            p.map(subject_loop, chunk)\n",
    "    print('[INFO] transformation process complete.')\n",
    "    flirt_process_time=time.time() - flirt_start_time\n",
    "    print(\"--- %s seconds ---\"%flirt_process_time )\n",
    "\n",
    "\n",
    "run_fslmaths=True\n",
    "if run_fslmaths==True:\n",
    "    print('[INFO] apply new threhold with fslmaths,threshold 0.9...')\n",
    "\n",
    "    fslmaths_start_time = time.time()\n",
    "    for chunk in chunk_list:\n",
    "        with mp.Pool(4) as p:\n",
    "            #print(chunk)\n",
    "            p.map(subject_loop, chunk)\n",
    "    fslmaths_process_time=time.time() - fslmaths_start_time\n",
    "    print(\"[INFO] process complete in --- %s seconds ---\"%fslmaths_process_time )\n",
    "\n",
    "\n",
    "\n",
    "#########################################\n",
    "## Step 3: Pull individual ROI timeseries from each subject, by task/condition\n"
   ]
  }
 ],
 "metadata": {
  "kernelspec": {
   "display_name": "Python 3",
   "language": "python",
   "name": "python3"
  },
  "language_info": {
   "codemirror_mode": {
    "name": "ipython",
    "version": 2
   },
   "file_extension": ".py",
   "mimetype": "text/x-python",
   "name": "python",
   "nbconvert_exporter": "python",
   "pygments_lexer": "ipython2",
   "version": "2.7.6"
  },
  "pycharm": {
   "stem_cell": {
    "cell_type": "raw",
    "source": [],
    "metadata": {
     "collapsed": false
    }
   }
  }
 },
 "nbformat": 4,
 "nbformat_minor": 0
}